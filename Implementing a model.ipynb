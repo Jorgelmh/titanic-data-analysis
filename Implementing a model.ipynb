{
 "cells": [
  {
   "cell_type": "markdown",
   "metadata": {},
   "source": [
    "# Machine Learning Model\n",
    "\n",
    "\n",
    "The aim of this notebook will be to implement different models and analyze their performance with different hyperparameters.\n",
    "\n",
    "The model will be trained with pre-processed data that'll have categorical variables and no outliers.\n",
    "\n",
    "The package will be sci-kit learn and the data set source: kaggle.com\n",
    "\n",
    "#### Some conclusions from the exploratory data analysis:\n",
    "\n",
    " - Children of age between 0 - 10 years were the most likely to survive. This group almost perfectly mixed between males and females.\n",
    " - It was noticed that even though there were more males in the boat, more females survived as a result of priorities when using safety boats.\n",
    " - People with 1st class tickets where the most likely to survive with a 50% chance, whereas 3rd class were the less likely with a chances of only 24%, it was also the class with more people.\n",
    " - Outliers for Age and Fare were slightly removed reducing the number of possible training entries to 762.\n",
    " - Embarked, Pclass, Sex and Survived were changed to categorical variables.\n",
    " - Embarked port doesn't seem to have and impact on whether a passenger survived or not. As it presents the same distribution."
   ]
  },
  {
   "cell_type": "code",
   "execution_count": 84,
   "metadata": {
    "scrolled": true
   },
   "outputs": [
    {
     "data": {
      "text/html": [
       "<div>\n",
       "<style scoped>\n",
       "    .dataframe tbody tr th:only-of-type {\n",
       "        vertical-align: middle;\n",
       "    }\n",
       "\n",
       "    .dataframe tbody tr th {\n",
       "        vertical-align: top;\n",
       "    }\n",
       "\n",
       "    .dataframe thead th {\n",
       "        text-align: right;\n",
       "    }\n",
       "</style>\n",
       "<table border=\"1\" class=\"dataframe\">\n",
       "  <thead>\n",
       "    <tr style=\"text-align: right;\">\n",
       "      <th></th>\n",
       "      <th>Survived</th>\n",
       "      <th>Sex</th>\n",
       "      <th>Age</th>\n",
       "      <th>SibSp</th>\n",
       "      <th>Parch</th>\n",
       "      <th>Embarked_C</th>\n",
       "      <th>Embarked_Q</th>\n",
       "      <th>Embarked_S</th>\n",
       "      <th>Pclass_1</th>\n",
       "      <th>Pclass_2</th>\n",
       "      <th>Pclass_3</th>\n",
       "    </tr>\n",
       "  </thead>\n",
       "  <tbody>\n",
       "    <tr>\n",
       "      <th>0</th>\n",
       "      <td>0</td>\n",
       "      <td>1</td>\n",
       "      <td>-0.461538</td>\n",
       "      <td>1.0</td>\n",
       "      <td>0.0</td>\n",
       "      <td>0</td>\n",
       "      <td>0</td>\n",
       "      <td>1</td>\n",
       "      <td>0</td>\n",
       "      <td>0</td>\n",
       "      <td>1</td>\n",
       "    </tr>\n",
       "    <tr>\n",
       "      <th>1</th>\n",
       "      <td>1</td>\n",
       "      <td>0</td>\n",
       "      <td>0.769231</td>\n",
       "      <td>1.0</td>\n",
       "      <td>0.0</td>\n",
       "      <td>1</td>\n",
       "      <td>0</td>\n",
       "      <td>0</td>\n",
       "      <td>1</td>\n",
       "      <td>0</td>\n",
       "      <td>0</td>\n",
       "    </tr>\n",
       "    <tr>\n",
       "      <th>2</th>\n",
       "      <td>1</td>\n",
       "      <td>0</td>\n",
       "      <td>-0.153846</td>\n",
       "      <td>0.0</td>\n",
       "      <td>0.0</td>\n",
       "      <td>0</td>\n",
       "      <td>0</td>\n",
       "      <td>1</td>\n",
       "      <td>0</td>\n",
       "      <td>0</td>\n",
       "      <td>1</td>\n",
       "    </tr>\n",
       "    <tr>\n",
       "      <th>3</th>\n",
       "      <td>1</td>\n",
       "      <td>0</td>\n",
       "      <td>0.538462</td>\n",
       "      <td>1.0</td>\n",
       "      <td>0.0</td>\n",
       "      <td>0</td>\n",
       "      <td>0</td>\n",
       "      <td>1</td>\n",
       "      <td>1</td>\n",
       "      <td>0</td>\n",
       "      <td>0</td>\n",
       "    </tr>\n",
       "    <tr>\n",
       "      <th>4</th>\n",
       "      <td>0</td>\n",
       "      <td>1</td>\n",
       "      <td>0.538462</td>\n",
       "      <td>0.0</td>\n",
       "      <td>0.0</td>\n",
       "      <td>0</td>\n",
       "      <td>0</td>\n",
       "      <td>1</td>\n",
       "      <td>0</td>\n",
       "      <td>0</td>\n",
       "      <td>1</td>\n",
       "    </tr>\n",
       "    <tr>\n",
       "      <th>5</th>\n",
       "      <td>0</td>\n",
       "      <td>1</td>\n",
       "      <td>0.000000</td>\n",
       "      <td>0.0</td>\n",
       "      <td>0.0</td>\n",
       "      <td>0</td>\n",
       "      <td>1</td>\n",
       "      <td>0</td>\n",
       "      <td>0</td>\n",
       "      <td>0</td>\n",
       "      <td>1</td>\n",
       "    </tr>\n",
       "    <tr>\n",
       "      <th>6</th>\n",
       "      <td>0</td>\n",
       "      <td>1</td>\n",
       "      <td>2.000000</td>\n",
       "      <td>0.0</td>\n",
       "      <td>0.0</td>\n",
       "      <td>0</td>\n",
       "      <td>0</td>\n",
       "      <td>1</td>\n",
       "      <td>1</td>\n",
       "      <td>0</td>\n",
       "      <td>0</td>\n",
       "    </tr>\n",
       "    <tr>\n",
       "      <th>7</th>\n",
       "      <td>0</td>\n",
       "      <td>1</td>\n",
       "      <td>-2.000000</td>\n",
       "      <td>3.0</td>\n",
       "      <td>1.0</td>\n",
       "      <td>0</td>\n",
       "      <td>0</td>\n",
       "      <td>1</td>\n",
       "      <td>0</td>\n",
       "      <td>0</td>\n",
       "      <td>1</td>\n",
       "    </tr>\n",
       "    <tr>\n",
       "      <th>8</th>\n",
       "      <td>1</td>\n",
       "      <td>0</td>\n",
       "      <td>-0.076923</td>\n",
       "      <td>0.0</td>\n",
       "      <td>2.0</td>\n",
       "      <td>0</td>\n",
       "      <td>0</td>\n",
       "      <td>1</td>\n",
       "      <td>0</td>\n",
       "      <td>0</td>\n",
       "      <td>1</td>\n",
       "    </tr>\n",
       "    <tr>\n",
       "      <th>9</th>\n",
       "      <td>1</td>\n",
       "      <td>0</td>\n",
       "      <td>-1.076923</td>\n",
       "      <td>1.0</td>\n",
       "      <td>0.0</td>\n",
       "      <td>1</td>\n",
       "      <td>0</td>\n",
       "      <td>0</td>\n",
       "      <td>0</td>\n",
       "      <td>1</td>\n",
       "      <td>0</td>\n",
       "    </tr>\n",
       "  </tbody>\n",
       "</table>\n",
       "</div>"
      ],
      "text/plain": [
       "  Survived Sex       Age  SibSp  Parch  Embarked_C  Embarked_Q  Embarked_S  \\\n",
       "0        0   1 -0.461538    1.0    0.0           0           0           1   \n",
       "1        1   0  0.769231    1.0    0.0           1           0           0   \n",
       "2        1   0 -0.153846    0.0    0.0           0           0           1   \n",
       "3        1   0  0.538462    1.0    0.0           0           0           1   \n",
       "4        0   1  0.538462    0.0    0.0           0           0           1   \n",
       "5        0   1  0.000000    0.0    0.0           0           1           0   \n",
       "6        0   1  2.000000    0.0    0.0           0           0           1   \n",
       "7        0   1 -2.000000    3.0    1.0           0           0           1   \n",
       "8        1   0 -0.076923    0.0    2.0           0           0           1   \n",
       "9        1   0 -1.076923    1.0    0.0           1           0           0   \n",
       "\n",
       "   Pclass_1  Pclass_2  Pclass_3  \n",
       "0         0         0         1  \n",
       "1         1         0         0  \n",
       "2         0         0         1  \n",
       "3         1         0         0  \n",
       "4         0         0         1  \n",
       "5         0         0         1  \n",
       "6         1         0         0  \n",
       "7         0         0         1  \n",
       "8         0         0         1  \n",
       "9         0         1         0  "
      ]
     },
     "execution_count": 84,
     "metadata": {},
     "output_type": "execute_result"
    }
   ],
   "source": [
    "import pandas as pd\n",
    "import numpy as np\n",
    "import matplotlib.pyplot as plt\n",
    "from scipy import stats\n",
    "from sklearn.model_selection import train_test_split, RandomizedSearchCV\n",
    "from sklearn.metrics import mean_squared_error, confusion_matrix\n",
    "from sklearn import metrics\n",
    "\n",
    "df = pd.read_pickle('./train_processed.pkl')\n",
    "df.head(10)"
   ]
  },
  {
   "cell_type": "code",
   "execution_count": 85,
   "metadata": {},
   "outputs": [
    {
     "data": {
      "text/plain": [
       "(712, 9)"
      ]
     },
     "execution_count": 85,
     "metadata": {},
     "output_type": "execute_result"
    }
   ],
   "source": [
    "# Split Testing and training data\n",
    "independent_variables = df.drop(columns=['Survived', 'SibSp'])\n",
    "dependent_variable = df['Survived']\n",
    "\n",
    "X_train, X_test, y_train, y_test = train_test_split(independent_variables, dependent_variable, test_size=.2)\n",
    "\n",
    "X_train.shape"
   ]
  },
  {
   "cell_type": "markdown",
   "metadata": {},
   "source": [
    "## Remove Outliers"
   ]
  },
  {
   "cell_type": "code",
   "execution_count": 86,
   "metadata": {},
   "outputs": [
    {
     "name": "stdout",
     "output_type": "stream",
     "text": [
      "Age | 6 | float64\n",
      "Parch | 11 | float64\n"
     ]
    }
   ],
   "source": [
    "numerical_variables = ['Age', 'Parch']\n",
    "\n",
    "def outliers_col():\n",
    "    for column in numerical_variables:\n",
    "        n_outliers = len(X_train[np.abs(stats.zscore(X_train[column])) >= 3])    \n",
    "        print(\"{} | {} | {}\".format(\n",
    "            X_train[column].name,\n",
    "            n_outliers,\n",
    "            X_train[column].dtype\n",
    "        ))\n",
    "outliers_col()"
   ]
  },
  {
   "cell_type": "code",
   "execution_count": 88,
   "metadata": {},
   "outputs": [
    {
     "name": "stdout",
     "output_type": "stream",
     "text": [
      "Age | 0 | float64\n",
      "Parch | 0 | float64\n"
     ]
    }
   ],
   "source": [
    "for column in numerical_variables:\n",
    "    y_train = y_train.drop(X_train[np.abs(stats.zscore(X_train[column])) > 3].index)\n",
    "    X_train = X_train[np.abs(stats.zscore(X_train[column])) <= 3]\n",
    "    \n",
    "outliers_col()"
   ]
  },
  {
   "cell_type": "code",
   "execution_count": 89,
   "metadata": {},
   "outputs": [
    {
     "data": {
      "text/plain": [
       "(694,)"
      ]
     },
     "execution_count": 89,
     "metadata": {},
     "output_type": "execute_result"
    }
   ],
   "source": [
    "y_train.shape"
   ]
  },
  {
   "cell_type": "markdown",
   "metadata": {},
   "source": [
    "# Modelling"
   ]
  },
  {
   "cell_type": "markdown",
   "metadata": {},
   "source": [
    "## Logistic Regression"
   ]
  },
  {
   "cell_type": "code",
   "execution_count": 91,
   "metadata": {},
   "outputs": [
    {
     "name": "stdout",
     "output_type": "stream",
     "text": [
      "{'C': 4.024081036285339, 'penalty': 'l2'}\n"
     ]
    },
    {
     "data": {
      "text/plain": [
       "0.7881844380403458"
      ]
     },
     "execution_count": 91,
     "metadata": {},
     "output_type": "execute_result"
    }
   ],
   "source": [
    "from sklearn.linear_model import LogisticRegression\n",
    "from scipy.stats import uniform\n",
    "\n",
    "# Distributions to randomize\n",
    "distributions = dict(C=uniform(loc=0, scale=5),\n",
    "                      penalty=['l2', 'l1'])\n",
    "\n",
    "\n",
    "clf_logistic = RandomizedSearchCV(LogisticRegression(solver='saga',max_iter=1000), distributions,cv=10)\n",
    "clf_logistic.fit(X_train, y_train)\n",
    "\n",
    "print(clf_logistic.best_params_)\n",
    "clf_logistic.score(X_train, y_train)"
   ]
  },
  {
   "cell_type": "markdown",
   "metadata": {},
   "source": [
    "## Multi-layer Perceptron (ANN)"
   ]
  },
  {
   "cell_type": "code",
   "execution_count": 92,
   "metadata": {},
   "outputs": [
    {
     "name": "stdout",
     "output_type": "stream",
     "text": [
      "{'activation': 'relu', 'alpha': 0.9091248360355031, 'hidden_layer_sizes': 80}\n"
     ]
    },
    {
     "data": {
      "text/plain": [
       "0.8184438040345822"
      ]
     },
     "execution_count": 92,
     "metadata": {},
     "output_type": "execute_result"
    }
   ],
   "source": [
    "from sklearn.neural_network import MLPClassifier\n",
    "from scipy.stats import randint\n",
    "\n",
    "distributions = dict(alpha=uniform(loc=0, scale=5), activation=['logistic', 'relu'], \n",
    "                     hidden_layer_sizes=randint(60, 150 + 1))\n",
    "\n",
    "clf_ANN = RandomizedSearchCV(MLPClassifier(max_iter=2000), distributions, random_state=42, cv=10)\n",
    "search_mlp = clf_ANN.fit(X_train, y_train)\n",
    "print(search_mlp.best_params_)\n",
    "\n",
    "clf_ANN.score(X_train, y_train)"
   ]
  },
  {
   "cell_type": "markdown",
   "metadata": {},
   "source": [
    "## Random Forest"
   ]
  },
  {
   "cell_type": "code",
   "execution_count": 100,
   "metadata": {},
   "outputs": [
    {
     "name": "stdout",
     "output_type": "stream",
     "text": [
      "{'max_features': 'auto', 'min_samples_split': 16, 'n_estimators': 96}\n"
     ]
    },
    {
     "data": {
      "text/plain": [
       "0.8515850144092219"
      ]
     },
     "execution_count": 100,
     "metadata": {},
     "output_type": "execute_result"
    }
   ],
   "source": [
    "from sklearn.ensemble import RandomForestClassifier\n",
    "\n",
    "distributions = dict(max_features=['auto', 'sqrt', 'log2'], n_estimators=randint(80, 150), min_samples_split=randint(2, 20))\n",
    "clf_rf = RandomizedSearchCV(RandomForestClassifier(), distributions, cv=10)\n",
    "\n",
    "clf_rf.fit(X_train, y_train)\n",
    "print(clf_rf.best_params_)\n",
    "clf_rf.score(X_train, y_train)"
   ]
  },
  {
   "cell_type": "markdown",
   "metadata": {},
   "source": [
    "# Evaluation"
   ]
  },
  {
   "cell_type": "code",
   "execution_count": 101,
   "metadata": {},
   "outputs": [
    {
     "data": {
      "text/plain": [
       "0.8100558659217877"
      ]
     },
     "execution_count": 101,
     "metadata": {},
     "output_type": "execute_result"
    }
   ],
   "source": [
    "test = RandomForestClassifier(max_features='log2', min_samples_split=5, n_estimators=100)\n",
    "test.fit(X_train, y_train)\n",
    "\n",
    "test.score(X_test, y_test)"
   ]
  },
  {
   "cell_type": "code",
   "execution_count": 107,
   "metadata": {},
   "outputs": [
    {
     "data": {
      "image/png": "[encoded data removed]",
      "text/plain": [
       "<Figure size 576x576 with 1 Axes>"
      ]
     },
     "metadata": {
      "needs_background": "light"
     },
     "output_type": "display_data"
    }
   ],
   "source": [
    "cm = confusion_matrix(y_test, test.predict(X=X_test))\n",
    "\n",
    "fig, ax = plt.subplots(figsize=(8, 8))\n",
    "ax.imshow(cm)\n",
    "ax.grid(False)\n",
    "ax.xaxis.set(ticks=(0, 1), ticklabels=('Predicted Deaths', 'Predicted Survived'))\n",
    "ax.yaxis.set(ticks=(0, 1), ticklabels=('Actual Deaths', 'Actual Survived'))\n",
    "ax.set_ylim(1.5, -0.5)\n",
    "for i in range(2):\n",
    "    for j in range(2):\n",
    "        ax.text(j, i, cm[i, j], ha='center', va='center', color='red')\n",
    "plt.show()"
   ]
  },
  {
   "cell_type": "code",
   "execution_count": null,
   "metadata": {},
   "outputs": [],
   "source": []
  }
 ],
 "metadata": {
  "kernelspec": {
   "display_name": "Python 3",
   "language": "python",
   "name": "python3"
  },
  "language_info": {
   "codemirror_mode": {
    "name": "ipython",
    "version": 3
   },
   "file_extension": ".py",
   "mimetype": "text/x-python",
   "name": "python",
   "nbconvert_exporter": "python",
   "pygments_lexer": "ipython3",
   "version": "3.8.5"
  }
 },
 "nbformat": 4,
 "nbformat_minor": 4
}
